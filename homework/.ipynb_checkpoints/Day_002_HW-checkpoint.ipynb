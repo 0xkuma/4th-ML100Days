{
 "cells": [
  {
   "cell_type": "markdown",
   "metadata": {},
   "source": [
    "## [作業目標]\n",
    "了解機器學習適合應用的領域與範疇。"
   ]
  },
  {
   "cell_type": "markdown",
   "metadata": {},
   "source": [
    "## [作業重點]\n",
    "透過瞭解機器學習的運作方式，找出非常適用機器學習應用的領域及其原因"
   ]
  },
  {
   "cell_type": "markdown",
   "metadata": {},
   "source": [
    "## 作業\n",
    "請找出一個你認為機器學習可以發光發熱的領域並闡述原因? "
   ]
  },
  {
   "cell_type": "markdown",
   "metadata": {},
   "source": [
    "   * 我認為機器學習可以在IoT領域中發光發熱。首先，隨着5G的發展物聯網亦會有很大的機會快速地發展。現今物聯網的限制就是網速上，因此解決了網速的問題，IoT的發展速度想必會突飛。而ML配合IoT在現今社會已經並非罕有，諸如AWS的Amazon Alex，Google的Google Home，當中都是包含ML的IoT設備，而這些設備亦同時令用家帶來生活上的極大便利，例如Alexa能透過Skill來語音控制家中同為IoT設備的動作。這些技術都要透過ML來達成。"
   ]
  }
 ],
 "metadata": {
  "kernelspec": {
   "display_name": "Python 3",
   "language": "python",
   "name": "python3"
  },
  "language_info": {
   "codemirror_mode": {
    "name": "ipython",
    "version": 3
   },
   "file_extension": ".py",
   "mimetype": "text/x-python",
   "name": "python",
   "nbconvert_exporter": "python",
   "pygments_lexer": "ipython3",
   "version": "3.7.4"
  }
 },
 "nbformat": 4,
 "nbformat_minor": 4
}
